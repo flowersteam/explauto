{
 "cells": [
  {
   "cell_type": "markdown",
   "metadata": {},
   "source": [
    "# Explauto, an open-source Python library to study autonomous exploration in developmental robotics"
   ]
  },
  {
   "cell_type": "markdown",
   "metadata": {},
   "source": [
    "Explauto is an open-source Python library providing a unified API to design and compare various exploration strategies driving various sensorimotor learning algorithms in various simulated or robotics systems. Explauto aims at being collaborative and pedagogic, providing a platform to developmental roboticists where they can publish and compare their algorithmic contributions related to autonomous exploration and learning, as well a platform for teaching and scientific diffusion. It is is available on [github](https://github.com/flowersteam/explauto).\n",
    "\n",
    "The library is organized in three main packages, each one containing a collection of interchangeable modules:\n",
    "* The [environment package](http://flowersteam.github.io/explauto/explauto.environment.html) provides a unified interface to real and simulated robots.\n",
    "* The [sensorimotor_model package](http://flowersteam.github.io/explauto/explauto.sensorimotormodel.html) provides a unified interface to online machine learning algorithm.\n",
    "* The [interest_model package](http://flowersteam.github.io/explauto/explauto.interestmodel.html) provides a unified interface for the active choice of sensorimotor experiments.\n",
    "\n",
    "The library is easily extendable by forking the [github repository](https://github.com/flowersteam/explauto) and proposing new modules for each package (tutorial to come, do not hesitate to [contact us](https://github.com/flowersteam/explauto/blob/master/AUTHORS.md) want to get involved).\n",
    "\n",
    "This tutorial shows how to use modules contained in these three packages, how to integrated them in simulation loops and how to analyse the results."
   ]
  },
  {
   "cell_type": "markdown",
   "metadata": {},
   "source": [
    "## Setting environments"
   ]
  },
  {
   "cell_type": "markdown",
   "metadata": {},
   "source": [
    "In Explauto, an *environment* implements the physical properties of the interaction between the robot body and the environment in which it evolves. Explauto comes with several sensorimotor systems available from the [environment package](http://flowersteam.github.io/explauto/explauto.environment.html):"
   ]
  },
  {
   "cell_type": "code",
   "execution_count": 1,
   "metadata": {
    "collapsed": false
   },
   "outputs": [
    {
     "data": {
      "text/plain": [
       "['pypot', 'pendulum', 'simple_arm']"
      ]
     },
     "execution_count": 1,
     "metadata": {},
     "output_type": "execute_result"
    }
   ],
   "source": [
    "from explauto.environment import environments\n",
    "environments.keys()"
   ]
  },
  {
   "cell_type": "markdown",
   "metadata": {},
   "source": [
    "According to your installation, you will see at least two available environments:\n",
    "* a multi-joint arm acting on a plan ('simple_arm')\n",
    "* an under-actuated torque-controlled circular pendulum  ('pendulum').\n",
    "\n",
    "These environments are simulated. Explauto also provides an interface to real robots based on Dynamixel actuators by providing bindings to the [Pypot](https://github.com/poppy-project/pypot) library  ([this tutorial](http://nbviewer.ipython.org/github/flowersteam/explauto/blob/master/notebook/poppy_environment.ipynb) shows how to use it on a [Poppy](http://www.poppy-project.org/) robot).\n",
    "\n",
    "We will use the simple arm for this tutorial. It consists in the simulation of a $n$ degrees-of-freedom (DoF) arm with movements limited to a 2D plan. Each available environment comes with a set of predefined configurations. A default configuration will always be defined. For the simple arm they are:"
   ]
  },
  {
   "cell_type": "code",
   "execution_count": 2,
   "metadata": {
    "collapsed": false
   },
   "outputs": [
    {
     "data": {
      "text/plain": [
       "['mid_dimensional',\n",
       " 'default',\n",
       " 'high_dim_high_s_range',\n",
       " 'low_dimensional',\n",
       " 'high_dimensional']"
      ]
     },
     "execution_count": 2,
     "metadata": {},
     "output_type": "execute_result"
    }
   ],
   "source": [
    "from explauto.environment import available_configurations\n",
    "available_configurations('simple_arm').keys()"
   ]
  },
  {
   "cell_type": "markdown",
   "metadata": {},
   "source": [
    "For example, the 'mid_dimensional' configuration corresponds to:"
   ]
  },
  {
   "cell_type": "code",
   "execution_count": 3,
   "metadata": {
    "collapsed": false
   },
   "outputs": [
    {
     "data": {
      "text/plain": [
       "{'length_ratio': 1.5,\n",
       " 'm_maxs': array([ 1.04719755,  1.04719755,  1.04719755,  1.04719755,  1.04719755,\n",
       "         1.04719755,  1.04719755]),\n",
       " 'm_mins': array([-1.04719755, -1.04719755, -1.04719755, -1.04719755, -1.04719755,\n",
       "        -1.04719755, -1.04719755]),\n",
       " 'noise': 0.02,\n",
       " 's_maxs': array([ 1.,  1.]),\n",
       " 's_mins': array([-0.5, -1. ])}"
      ]
     },
     "execution_count": 3,
     "metadata": {},
     "output_type": "execute_result"
    }
   ],
   "source": [
    "available_configurations('simple_arm')['mid_dimensional']"
   ]
  },
  {
   "cell_type": "markdown",
   "metadata": {},
   "source": [
    "One can use this method with every registered environments. For example the available configurations for the pendulum are:"
   ]
  },
  {
   "cell_type": "code",
   "execution_count": 4,
   "metadata": {
    "collapsed": false
   },
   "outputs": [
    {
     "data": {
      "text/plain": [
       "['default', 'underactuated']"
      ]
     },
     "execution_count": 4,
     "metadata": {},
     "output_type": "execute_result"
    }
   ],
   "source": [
    "available_configurations('pendulum').keys()"
   ]
  },
  {
   "cell_type": "markdown",
   "metadata": {},
   "source": [
    "Let's instantiate a mid-dimensional simple arm:"
   ]
  },
  {
   "cell_type": "code",
   "execution_count": 5,
   "metadata": {
    "collapsed": false
   },
   "outputs": [],
   "source": [
    "from explauto import Environment\n",
    "environment = Environment.from_configuration('simple_arm', 'mid_dimensional')"
   ]
  },
  {
   "cell_type": "markdown",
   "metadata": {},
   "source": [
    "Each particular environment has to implement its own  [compute_sensori_effect](http://flowersteam.github.io/explauto/explauto.environment.html#explauto.environment.environment.Environment.compute_sensori_effect) method, which takes as argument a motor command vector $m$ (here the position of the joints, 7-dimensional). It returns the corresponding sensory effect vector $s$ (here the coordinate of the hand, $2$-dimensional)."
   ]
  },
  {
   "cell_type": "code",
   "execution_count": 6,
   "metadata": {
    "collapsed": false
   },
   "outputs": [
    {
     "data": {
      "text/plain": [
       "array([ 0.43737334,  0.23652859])"
      ]
     },
     "execution_count": 6,
     "metadata": {},
     "output_type": "execute_result"
    }
   ],
   "source": [
    "from numpy import pi\n",
    "m = [-pi/6., pi/3., pi/4., pi/5., 0., pi/3., pi/6.]\n",
    "environment.compute_sensori_effect(m)"
   ]
  },
  {
   "cell_type": "markdown",
   "metadata": {},
   "source": [
    "Environments can implement specific methods for, e.g., drawing:"
   ]
  },
  {
   "cell_type": "code",
   "execution_count": 7,
   "metadata": {
    "collapsed": false
   },
   "outputs": [
    {
     "name": "stdout",
     "output_type": "stream",
     "text": [
      "Populating the interactive namespace from numpy and matplotlib\n"
     ]
    },
    {
     "data": {
      "image/png": "[encoded data removed]",
      "text/plain": [
       "<matplotlib.figure.Figure at 0x7fd412d4dc50>"
      ]
     },
     "metadata": {},
     "output_type": "display_data"
    }
   ],
   "source": [
    "# Create the axes for plotting::\n",
    "%pylab inline\n",
    "ax = axes()\n",
    "\n",
    "# plot the arm:\n",
    "environment.plot_arm(ax, m)"
   ]
  },
  {
   "cell_type": "markdown",
   "metadata": {},
   "source": [
    "The base of the arm is fixed at (0, 0) (circle). The first angle position m[0] corresponds to the angle between a horizontal line and the segment attached to the base, anticlock-wise. Each following angle position is measured with respect to their respective previous segment. "
   ]
  },
  {
   "cell_type": "markdown",
   "metadata": {},
   "source": [
    "The [Environment](http://flowersteam.github.io/explauto/explauto.environment.html#explauto.environment.environment.Environment) base class provides several useful methods in order to, e.g., sample random motor commands:"
   ]
  },
  {
   "cell_type": "code",
   "execution_count": 8,
   "metadata": {
    "collapsed": false
   },
   "outputs": [],
   "source": [
    "motor_configurations = environment.random_motors(n=10)"
   ]
  },
  {
   "cell_type": "markdown",
   "metadata": {},
   "source": [
    "Let's for example plot 10 random arm configurations:"
   ]
  },
  {
   "cell_type": "code",
   "execution_count": 9,
   "metadata": {
    "collapsed": false
   },
   "outputs": [
    {
     "name": "stdout",
     "output_type": "stream",
     "text": [
      "Populating the interactive namespace from numpy and matplotlib\n"
     ]
    },
    {
     "data": {
      "image/png": "[encoded data removed]",
      "text/plain": [
       "<matplotlib.figure.Figure at 0x7fd412d19150>"
      ]
     },
     "metadata": {},
     "output_type": "display_data"
    }
   ],
   "source": [
    "# Create the axes for plotting::\n",
    "%pylab inline\n",
    "ax = axes()\n",
    "\n",
    "# Plotting 10 random motor configurations:\n",
    "for m in motor_configurations:\n",
    "    environment.plot_arm(ax, m)"
   ]
  },
  {
   "cell_type": "markdown",
   "metadata": {},
   "source": [
    "Dynamical environments are also available, though their integration with the rest of the library is not yet completly clear (to discuss later). E.g., a circular pendulum:"
   ]
  },
  {
   "cell_type": "code",
   "execution_count": 10,
   "metadata": {
    "collapsed": false
   },
   "outputs": [],
   "source": [
    "environment = Environment.from_configuration('pendulum', 'default')"
   ]
  },
  {
   "cell_type": "code",
   "execution_count": 11,
   "metadata": {
    "collapsed": false
   },
   "outputs": [
    {
     "name": "stdout",
     "output_type": "stream",
     "text": [
      "Using matplotlib backend: TkAgg\n",
      "Populating the interactive namespace from numpy and matplotlib\n"
     ]
    },
    {
     "data": {
      "image/png": "[encoded data removed]",
      "text/plain": [
       "<matplotlib.figure.Figure at 0x7fd412d4d790>"
      ]
     },
     "metadata": {},
     "output_type": "display_data"
    }
   ],
   "source": [
    "%pylab\n",
    "ax = axes()\n",
    "\n",
    "# Sequence of torques at each time step:\n",
    "U = [0.25] * 15 + [-0.25] * 15 + [0.25] * 19\n",
    "\n",
    "# reset to lower position:\n",
    "environment.reset() \n",
    "\n",
    "# apply torque and plot:\n",
    "for u in U:\n",
    "    ax.cla()\n",
    "    environment.apply_torque(u)\n",
    "    environment.plot_current_state(ax)\n",
    "    draw()"
   ]
  },
  {
   "cell_type": "markdown",
   "metadata": {},
   "source": [
    "The [compute_sensori_effect](http://flowersteam.github.io/explauto/explauto.environment.html#explauto.environment.environment.Environment.compute_sensori_effect) method is also defined (using a motor primitive):"
   ]
  },
  {
   "cell_type": "code",
   "execution_count": 12,
   "metadata": {
    "collapsed": false
   },
   "outputs": [
    {
     "data": {
      "text/plain": [
       "array([-0.94737371,  0.85681458])"
      ]
     },
     "execution_count": 12,
     "metadata": {},
     "output_type": "execute_result"
    }
   ],
   "source": [
    "environment.compute_sensori_effect(environment.random_motors())"
   ]
  },
  {
   "cell_type": "markdown",
   "metadata": {},
   "source": [
    "But let's continue this tutorial using a mid-dimensional simple arm:"
   ]
  },
  {
   "cell_type": "code",
   "execution_count": 13,
   "metadata": {
    "collapsed": false
   },
   "outputs": [],
   "source": [
    "environment = Environment.from_configuration('simple_arm', 'mid_dimensional')"
   ]
  },
  {
   "cell_type": "markdown",
   "metadata": {},
   "source": [
    "## Learning sensorimotor models"
   ]
  },
  {
   "cell_type": "markdown",
   "metadata": {},
   "source": [
    "In Explauto, a sensorimotor model implements both the iterative learning process from sensorimotor experience, i.e. from the iterative collection of $(m, s)$ pairs by interaction with the environment, and the use of the resulting internal model to perform forward and inverse predictions (or any kind of general prediction between sensorimotor subspaces). \n",
    "\n",
    "Learning sensorimotor mappings involves machine learning algorithms, for which Explauto provides a unified interface through the [SensorimotorModel abstract class](http://flowersteam.github.io/explauto/explauto.sensorimotormodel.html#explauto.sensorimotor_model.sensorimotor_model.SensorimotorModel). "
   ]
  },
  {
   "cell_type": "markdown",
   "metadata": {},
   "source": [
    "Using the simple arm environment above, it allows to iteratively learn a sensorimotor model which will be able to:\n",
    "* infer the position of the end-effector from a given motor command, what is called *forward prediction*,\n",
    "* infer the motor command allowing to reach a particular end-effector position, what is called *inverse prediction*.\n",
    "* update online from sensorimotor experience\n"
   ]
  },
  {
   "cell_type": "markdown",
   "metadata": {},
   "source": [
    "Several sensorimotor models are provided: simple nearest-neighbor look-up, non-parametric models combining classical regressions and optimization algorithms, online local mixtures of Gaussians (ILO-GMM and IMLE), and discrete Lindstone distributions.\n",
    "Similarly to environments, available sensorimotor models in Explauto can be accessed using:"
   ]
  },
  {
   "cell_type": "code",
   "execution_count": 14,
   "metadata": {
    "collapsed": false
   },
   "outputs": [
    {
     "data": {
      "text/plain": [
       "['ilo_gmm', 'LWLR-CMAES', 'nearest_neighbor', 'WNN', 'LWLR-BFGS']"
      ]
     },
     "execution_count": 14,
     "metadata": {},
     "output_type": "execute_result"
    }
   ],
   "source": [
    "from explauto.sensorimotor_model import sensorimotor_models\n",
    "sensorimotor_models.keys()"
   ]
  },
  {
   "cell_type": "markdown",
   "metadata": {},
   "source": [
    "Here we will use the 'NN' model, which stands for 'nearest neighbor'. This sensorimotor model simply stores sensorimotor experience, ie. $(m, s)$ pairs where $m$ is a motor command (here arm joint positions) and $s$ the corresponding sensory effect (here end-effector positions). When asked for a forward prediction for a given motor command $m$, it returns the associated sensory effect $s$ of the nearest neighbor of $m$ in the stored sensorimotor experience. When asked for an inverse prediction to reach a sensory goal $s$, it returns the associated motor command $m$ of the nearest neighbor of $s$ in the stored sensorimotor experience, possibly pertubated with a bit gaussian noise."
   ]
  },
  {
   "cell_type": "code",
   "execution_count": 15,
   "metadata": {
    "collapsed": false
   },
   "outputs": [
    {
     "data": {
      "text/plain": [
       "{'default': {'fwd': 'NN', 'inv': 'NN', 'sigma_explo_ratio': 0.1},\n",
       " 'exact': {'fwd': 'NN', 'inv': 'NN', 'sigma_explo_ratio': 0.0}}"
      ]
     },
     "execution_count": 15,
     "metadata": {},
     "output_type": "execute_result"
    }
   ],
   "source": [
    "from explauto.sensorimotor_model import available_configurations\n",
    "available_configurations('nearest_neighbor')"
   ]
  },
  {
   "cell_type": "markdown",
   "metadata": {},
   "source": [
    "We will use the 'exact' configuration, which perform forward and inverse prediction as explained above, without any noise added (ie., it just looks for the nearest neighbor). \n",
    "\n",
    "Now we can instantiate the sensorimotor model by using:"
   ]
  },
  {
   "cell_type": "code",
   "execution_count": 16,
   "metadata": {
    "collapsed": false
   },
   "outputs": [],
   "source": [
    "from explauto import SensorimotorModel\n",
    "sm_model = SensorimotorModel.from_configuration(environment.conf, 'nearest_neighbor', 'exact')"
   ]
  },
  {
   "cell_type": "markdown",
   "metadata": {},
   "source": [
    "Note that in addition to the names of the model and its configuration, one also has to pass environment.conf. This a [Configuration](http://flowersteam.github.io/explauto/explauto.utils.html#explauto.utils.config.Configuration) object which is instantiated during the environment creation and provides information about the motor and sensorimotor ranges used by the environment. It is useful for the sensorimotor model to be properly configured. When using the 'default' configuration for example, the added noise when performing inverse prediction depends on the motor ranges. Passing environment.conf thus allows to define sensorimotor model configurations independently of particular environment settings.\n",
    "\n",
    "Now let's train the model from the execution of random motor commands (i.e. random motor babbling):"
   ]
  },
  {
   "cell_type": "code",
   "execution_count": 17,
   "metadata": {
    "collapsed": false
   },
   "outputs": [],
   "source": [
    "for m in environment.random_motors(n=1000):\n",
    "    # compute the sensori effect s of the motor command m through the environment:\n",
    "    s = environment.compute_sensori_effect(m)\n",
    "    # update the model according to this experience:\n",
    "    sm_model.update(m, s)"
   ]
  },
  {
   "cell_type": "markdown",
   "metadata": {},
   "source": [
    "Note that sensorimotor model training in Explauto is an iterative process. They incorporate new sensorimotor experience on the fly instead of using batch training. This is a requirement for autonomous exploration where the internal model has to be refined *online*.\n",
    "\n",
    "Once the sensorimodel has been trained, one can perform forward and inverse prediction with it. Let's predict the sensori effect of a new random motor command (which is not in the training set we just used) using the [forward_prediction](http://flowersteam.github.io/explauto/explauto.sensorimotormodel.html#explauto.sensorimotor_model.sensorimotor_model.SensorimotorModel.forward_prediction) method:"
   ]
  },
  {
   "cell_type": "code",
   "execution_count": 18,
   "metadata": {
    "collapsed": false
   },
   "outputs": [
    {
     "name": "stdout",
     "output_type": "stream",
     "text": [
      "random motor command:  [-0.53082879 -0.73800079  0.38695093  0.66379274 -0.37503041  1.03063067\n",
      " -0.16060404]\n",
      "predicted effect:  [ 0.70374268 -0.61556766]\n"
     ]
    }
   ],
   "source": [
    "# random motor command:\n",
    "m = environment.random_motors(n=1)[0]\n",
    "# predicted sensory effect:\n",
    "s_pred = sm_model.forward_prediction(m)\n",
    "\n",
    "print 'random motor command: ', m\n",
    "print 'predicted effect: ', s_pred"
   ]
  },
  {
   "cell_type": "markdown",
   "metadata": {},
   "source": [
    "and compare the predicted effect with the real effect observed from executing $m$ through the environment:"
   ]
  },
  {
   "cell_type": "code",
   "execution_count": 19,
   "metadata": {
    "collapsed": false
   },
   "outputs": [
    {
     "name": "stdout",
     "output_type": "stream",
     "text": [
      "Populating the interactive namespace from numpy and matplotlib\n"
     ]
    },
    {
     "data": {
      "text/plain": [
       "[<matplotlib.lines.Line2D at 0x7fd4127d3d50>]"
      ]
     },
     "execution_count": 19,
     "metadata": {},
     "output_type": "execute_result"
    },
    {
     "data": {
      "image/png": "[encoded data removed]",
      "text/plain": [
       "<matplotlib.figure.Figure at 0x7fd412d4dc50>"
      ]
     },
     "metadata": {},
     "output_type": "display_data"
    }
   ],
   "source": [
    "%pylab inline\n",
    "ax = axes()\n",
    "\n",
    "environment.plot_arm(ax, m)\n",
    "ax.plot(*s_pred, marker='o', color='red')"
   ]
  },
  {
   "cell_type": "markdown",
   "metadata": {},
   "source": [
    "We observe that the predicted end-effector position is quite close to the observed position when executing the motor command. Using the 'NN' model, it simply corresponds to the sensory effect of the nearest neighbor of $m$ in the stored sensorimotor experience."
   ]
  },
  {
   "cell_type": "markdown",
   "metadata": {},
   "source": [
    "Sensorimotor models can also be used for inverse prediction using the [inverse_prediction](http://flowersteam.github.io/explauto/explauto.sensorimotormodel.html#explauto.sensorimotor_model.sensorimotor_model.SensorimotorModel.inverse_prediction) method, allowing the inference of an appropriate motor comand $m$ in order to reach a given sensory goal $s_g$:"
   ]
  },
  {
   "cell_type": "code",
   "execution_count": 20,
   "metadata": {
    "collapsed": false
   },
   "outputs": [
    {
     "name": "stdout",
     "output_type": "stream",
     "text": [
      "Inferred motor command to reach the position  [0.7, 0.5] :  [ 0.2006775   0.10442277  0.81768747  0.07054604  0.04431143  0.18027209\n",
      "  0.90198418]\n"
     ]
    }
   ],
   "source": [
    "s_g = [0.7, 0.5]\n",
    "m = sm_model.inverse_prediction(s_g)\n",
    "print 'Inferred motor command to reach the position ', s_g, ': ', m"
   ]
  },
  {
   "cell_type": "markdown",
   "metadata": {},
   "source": [
    "We can check if the inferred motor command is actually appropriate to reach the goal $s_g$:"
   ]
  },
  {
   "cell_type": "code",
   "execution_count": 21,
   "metadata": {
    "collapsed": false
   },
   "outputs": [
    {
     "data": {
      "text/plain": [
       "[<matplotlib.lines.Line2D at 0x7fd412573c50>]"
      ]
     },
     "execution_count": 21,
     "metadata": {},
     "output_type": "execute_result"
    },
    {
     "data": {
      "image/png": "[encoded data removed]",
      "text/plain": [
       "<matplotlib.figure.Figure at 0x7fd41186a210>"
      ]
     },
     "metadata": {},
     "output_type": "display_data"
    }
   ],
   "source": [
    "ax = axes()\n",
    "environment.plot_arm(ax, m)\n",
    "ax.plot(*s_g, marker='o', color='red')"
   ]
  },
  {
   "cell_type": "markdown",
   "metadata": {},
   "source": [
    "We observe that the inferred motor command results in an end-effector position which is quite close to the goal. Using the 'exact' configuration of the 'NN' model, it is simply the motor command which resulted in the sensory effect which is the closest to $s_g$ in the stored experience."
   ]
  },
  {
   "cell_type": "markdown",
   "metadata": {},
   "source": [
    "Here is a bit more complex example where the arm attempt to follow a vertical straight line with the end-effector:"
   ]
  },
  {
   "cell_type": "code",
   "execution_count": 22,
   "metadata": {
    "collapsed": false
   },
   "outputs": [
    {
     "data": {
      "image/png": "[encoded data removed]",
      "text/plain": [
       "<matplotlib.figure.Figure at 0x7fd411834e50>"
      ]
     },
     "metadata": {},
     "output_type": "display_data"
    }
   ],
   "source": [
    "ax = axes()\n",
    "\n",
    "# Define the line and plot it:\n",
    "x = 0.8\n",
    "y_a = 0.5\n",
    "y_b = -0.5\n",
    "ax.plot([x, x], [y_a, y_b], color='red')\n",
    "\n",
    "# for 10 points equidistantly spaced on the line, perform inverse prediction and plot:\n",
    "for y in linspace(-0.5, 0.5, 10):\n",
    "    m = sm_model.inverse_prediction([x, y])\n",
    "    environment.plot_arm(ax, m)"
   ]
  },
  {
   "cell_type": "markdown",
   "metadata": {},
   "source": [
    "Using another sensorimotor model in Explauto simply consists of changing the model name and configuration above. For example, you can try to execute the exact same code, just replacing the model instanciation by:"
   ]
  },
  {
   "cell_type": "code",
   "execution_count": 23,
   "metadata": {
    "collapsed": false
   },
   "outputs": [],
   "source": [
    "sm_model = SensorimotorModel.from_configuration(environment.conf, 'ilo_gmm', 'default')"
   ]
  },
  {
   "cell_type": "markdown",
   "metadata": {},
   "source": [
    "## Motor and goal babbling using interest models"
   ]
  },
  {
   "cell_type": "markdown",
   "metadata": {},
   "source": [
    "In Explauto, the role of interest models is to provide sensorimotor predictions (forward or inverse) to be performed by the sensorimotor model. An interest model implements the active exploration process,  where sensorimotor experiments are chosen to improve the forward or inverse predictions of the sensorimotor model. It explores in a given *interest space* resulting in motor babbling strategies when it corresponds to the motor space and in goal babbling strategies when it corresponds to the sensory space.\n",
    "\n",
    "An interest model has to implement a sampling procedure in the interest space. Explauto provides several sampling procedures: \n",
    "* random sampling\n",
    "* learning progress maximization in forward or inverse predictions.\n",
    "* In development:\n",
    "    * social interaction (e.g. using a mouse pointer to interactively provide sensory goals)\n",
    "    * optimization toward a specific goal"
   ]
  },
  {
   "cell_type": "markdown",
   "metadata": {},
   "source": [
    "Similarly to environments and sensorimotor models, available interest models in Explauto can be accessed using:"
   ]
  },
  {
   "cell_type": "code",
   "execution_count": 24,
   "metadata": {
    "collapsed": false
   },
   "outputs": [
    {
     "data": {
      "text/plain": [
       "['discretized_progress', 'tree', 'random', 'gmm_progress_beta']"
      ]
     },
     "execution_count": 24,
     "metadata": {},
     "output_type": "execute_result"
    }
   ],
   "source": [
    "from explauto.interest_model import interest_models, available_configurations\n",
    "interest_models.keys()"
   ]
  },
  {
   "cell_type": "markdown",
   "metadata": {},
   "source": [
    "and the available configurations of a given model by:"
   ]
  },
  {
   "cell_type": "code",
   "execution_count": 25,
   "metadata": {
    "collapsed": false
   },
   "outputs": [
    {
     "data": {
      "text/plain": [
       "{'default': {'measure': <function explauto.interest_model.competences.competence_dist>,\n",
       "  'win_size': 10,\n",
       "  'x_card': 400}}"
      ]
     },
     "execution_count": 25,
     "metadata": {},
     "output_type": "execute_result"
    }
   ],
   "source": [
    "available_configurations('discretized_progress')"
   ]
  },
  {
   "cell_type": "markdown",
   "metadata": {},
   "source": [
    "Using an environment, a sensorimotor and an interest model, one can run a motor babbling strategy by:\n",
    "* first instantiate a random motor interest model:"
   ]
  },
  {
   "cell_type": "code",
   "execution_count": 26,
   "metadata": {
    "collapsed": false
   },
   "outputs": [],
   "source": [
    "from explauto import InterestModel\n",
    "im_model = InterestModel.from_configuration(environment.conf, environment.conf.m_dims, 'random')"
   ]
  },
  {
   "cell_type": "markdown",
   "metadata": {},
   "source": [
    "* Then running the following simulation loop and (optionally) plotting the reached sensory effects:"
   ]
  },
  {
   "cell_type": "code",
   "execution_count": 28,
   "metadata": {
    "collapsed": false
   },
   "outputs": [
    {
     "data": {
      "image/png": "[encoded data removed]",
      "text/plain": [
       "<matplotlib.figure.Figure at 0x7fd411684350>"
      ]
     },
     "metadata": {},
     "output_type": "display_data"
    }
   ],
   "source": [
    "# re-instantiate the sensorimotor model (to forget what was previously learnt in the previous section\n",
    "sm_model = SensorimotorModel.from_configuration(environment.conf, 'nearest_neighbor', 'default')\n",
    "\n",
    "# run the simulation loop\n",
    "for _ in range(100):\n",
    "    # sample a random motor command using the interest model:\n",
    "    m = im_model.sample()\n",
    "    # execute this command and observe the corresponding sensory effect:\n",
    "    s = environment.compute_sensori_effect(m)\n",
    "    # update the sensorimotor model:\n",
    "    sm_model.update(m, s)\n",
    "    im_model.update(hstack((m, s)), hstack((m, s_g)))\n",
    "    # plot the observed sensory effect:\n",
    "    plot(s[0], s[1], 'ok')"
   ]
  },
  {
   "cell_type": "markdown",
   "metadata": {},
   "source": [
    "(The plots are quite hugly here, we will present Explauto visualization tools in the following.)"
   ]
  },
  {
   "cell_type": "markdown",
   "metadata": {},
   "source": [
    "Random goal babbling corresponds to:"
   ]
  },
  {
   "cell_type": "code",
   "execution_count": 29,
   "metadata": {
    "collapsed": false
   },
   "outputs": [
    {
     "data": {
      "image/png": "[encoded data removed]",
      "text/plain": [
       "<matplotlib.figure.Figure at 0x7fd412510750>"
      ]
     },
     "metadata": {},
     "output_type": "display_data"
    }
   ],
   "source": [
    "# Instantiate a random goal interest model:\n",
    "im_model = InterestModel.from_configuration(environment.conf, environment.conf.s_dims, 'random')\n",
    "\n",
    "for _ in range(100):\n",
    "    # sample a random sensory goal using the interest model:\n",
    "    s_g = im_model.sample()\n",
    "    # infer a motor command to reach that goal using the sensorimotor model:\n",
    "    m = sm_model.inverse_prediction(s_g)\n",
    "    # execute this command and observe the corresponding sensory effect:\n",
    "    s = environment.compute_sensori_effect(m)\n",
    "    # update the sensorimotor model:\n",
    "    sm_model.update(m, s)\n",
    "    # plot the observed sensory effect:\n",
    "    plot(s[0], s[1], 'ok')"
   ]
  },
  {
   "cell_type": "markdown",
   "metadata": {},
   "source": [
    "We observe that goal babbling allow a more uniform covering of the sensory space."
   ]
  },
  {
   "cell_type": "markdown",
   "metadata": {},
   "source": [
    "And finally, here is the code for curiosity-driven goal babbling (maximization of the learning progress):"
   ]
  },
  {
   "cell_type": "code",
   "execution_count": 30,
   "metadata": {
    "collapsed": false
   },
   "outputs": [
    {
     "data": {
      "image/png": "[encoded data removed]",
      "text/plain": [
       "<matplotlib.figure.Figure at 0x7fd411485050>"
      ]
     },
     "metadata": {},
     "output_type": "display_data"
    }
   ],
   "source": [
    "# Instantiate an active goal interest model:\n",
    "im_model = InterestModel.from_configuration(environment.conf, environment.conf.s_dims, 'discretized_progress')\n",
    "\n",
    "for _ in range(100):\n",
    "    # sample a sensory goal maximizing learning progress using the interest model:\n",
    "    s_g = im_model.sample()\n",
    "    # infer a motor command to reach that goal using the sensorimotor model:\n",
    "    m = sm_model.inverse_prediction(s_g)\n",
    "    # execute this command and observe the corresponding sensory effect:\n",
    "    s = environment.compute_sensori_effect(m)\n",
    "    # update the sensorimotor model:\n",
    "    sm_model.update(m, s)\n",
    "    # update the interest model:\n",
    "    im_model.update(hstack((m, s)), hstack((m, s_g)))\n",
    "    # plot the observed sensory effect:\n",
    "    plot(s[0], s[1], 'ok')"
   ]
  },
  {
   "cell_type": "markdown",
   "metadata": {},
   "source": [
    "The reached point obtained above do not well cover the sensory space. This is due to the fact that we did not re-initialize the sensorimotor model (therefore this latter was already trained) to avoid some bootstrapping issues. The next section shows how to encapsulate a sensorimotor and an interest models into an agent to, among other things, take care of those bootstrapping issues."
   ]
  },
  {
   "cell_type": "markdown",
   "metadata": {},
   "source": [
    "## Encapsulating a sensorimotor and an interest models into an agent"
   ]
  },
  {
   "cell_type": "markdown",
   "metadata": {},
   "source": [
    "Encapsulating a sensorimotor and an interest models into an agent allows to generalize and simplify the simulation loop whatever the exploration strategy involved, ie whatever the type of babbling, the sensorimotor and the interest models. In Explauto, an agent is intantiated using a configuration (generally from an environment), a sensorimotor and an interest models:"
   ]
  },
  {
   "cell_type": "code",
   "execution_count": 33,
   "metadata": {
    "collapsed": false
   },
   "outputs": [],
   "source": [
    "from explauto import Agent\n",
    "\n",
    "sm_model = SensorimotorModel.from_configuration(environment.conf, 'nearest_neighbor', 'default')\n",
    "im_model = InterestModel.from_configuration(environment.conf, environment.conf.m_dims, 'random')\n",
    "\n",
    "agent = Agent(environment.conf, sm_model, im_model)"
   ]
  },
  {
   "cell_type": "markdown",
   "metadata": {},
   "source": [
    "An agent is provided with two methods. One for producing a motor command:"
   ]
  },
  {
   "cell_type": "code",
   "execution_count": 34,
   "metadata": {
    "collapsed": false
   },
   "outputs": [
    {
     "name": "stderr",
     "output_type": "stream",
     "text": [
      "WARNING:explauto.agent.agent:Sensorimotor model not bootstrapped yet\n"
     ]
    },
    {
     "name": "stdout",
     "output_type": "stream",
     "text": [
      "[ 0.05849815  0.41188658 -0.53316333 -0.5223665  -0.60042586 -0.76150497\n",
      "  0.65976097]\n"
     ]
    }
   ],
   "source": [
    "m = agent.produce()\n",
    "print m"
   ]
  },
  {
   "cell_type": "markdown",
   "metadata": {},
   "source": [
    "The *produce()* method calls the *sample()* method of the interest model, which returns either a motor command or a sensory goal according to the interest space (i.e. the type of babbling). Then it uses the sensorimotor model to complete the obtained value into a full sensorimotor vector (using forward prediction in case of motor babbling and inverse prediction in case of goal babbling). Finally it returns the motor part of this full sensorimotor vector. Agents also take care of model bootstrapping issues."
   ]
  },
  {
   "cell_type": "markdown",
   "metadata": {},
   "source": [
    "The second main agent method is *perceive()*, which informs the agent with the sensorimotor consequence of its action in order to update both the sensorimotor and the interest models:"
   ]
  },
  {
   "cell_type": "code",
   "execution_count": 35,
   "metadata": {
    "collapsed": false
   },
   "outputs": [],
   "source": [
    "s = environment.update(m)\n",
    "agent.perceive(s)"
   ]
  },
  {
   "cell_type": "markdown",
   "metadata": {},
   "source": [
    "Hence the entire simulation loop can now be rewritten as:"
   ]
  },
  {
   "cell_type": "code",
   "execution_count": 36,
   "metadata": {
    "collapsed": false
   },
   "outputs": [],
   "source": [
    "for _ in range(100):\n",
    "    m = agent.produce()\n",
    "    s = environment.update(m)\n",
    "    agent.perceive(s)    "
   ]
  },
  {
   "cell_type": "markdown",
   "metadata": {},
   "source": [
    "This loop is valid whatever the exploration strategy involved. The corresponding formal framework is defined in:\n",
    "\n",
    "C. Moulin-Frier and P.-Y. Oudeyer, [*Exploration strategies in developmental robotics: A unified probabilistic framework*](https://hal.inria.fr/hal-00860641), ICDL/Epirob, Osaka, Japan, 2013, pp. 1–6.\n",
    "\n",
    "\n",
    "Let's for example create a curiosity-driven goal babbler:"
   ]
  },
  {
   "cell_type": "code",
   "execution_count": 38,
   "metadata": {
    "collapsed": false
   },
   "outputs": [],
   "source": [
    "sm_model = SensorimotorModel.from_configuration(environment.conf, 'nearest_neighbor', 'default')\n",
    "im_model = InterestModel.from_configuration(environment.conf, environment.conf.s_dims, 'discretized_progress')\n",
    "\n",
    "agent = Agent(environment.conf, sm_model, im_model)"
   ]
  },
  {
   "cell_type": "markdown",
   "metadata": {},
   "source": [
    "and run it using the exact same loop:"
   ]
  },
  {
   "cell_type": "code",
   "execution_count": 39,
   "metadata": {
    "collapsed": false
   },
   "outputs": [
    {
     "name": "stderr",
     "output_type": "stream",
     "text": [
      "WARNING:explauto.agent.agent:Sensorimotor model not bootstrapped yet\n"
     ]
    }
   ],
   "source": [
    "for _ in range(100):\n",
    "    m = agent.produce()\n",
    "    s = environment.update(m)\n",
    "    agent.perceive(s)"
   ]
  },
  {
   "cell_type": "markdown",
   "metadata": {},
   "source": [
    "Of course lack a way to visualize the result of our simulations here, this is why we introduce Explauto's Experiment in the next section."
   ]
  },
  {
   "cell_type": "markdown",
   "metadata": {},
   "source": [
    "## Encapsulating an environment and an agent into an experiment"
   ]
  },
  {
   "cell_type": "markdown",
   "metadata": {},
   "source": [
    "Encapsulating an environment and an agent into an experiment allows to evaluate agent learning and offers plotting facilities. Once an environment and an agent have been constructed, one can set an experiment using:"
   ]
  },
  {
   "cell_type": "code",
   "execution_count": 40,
   "metadata": {
    "collapsed": false
   },
   "outputs": [],
   "source": [
    "from explauto import Experiment\n",
    "\n",
    "expe = Experiment(environment, agent)"
   ]
  },
  {
   "cell_type": "markdown",
   "metadata": {},
   "source": [
    "An experiment offers the management of the simulation loop with evaluation, logging and plotting capabilities. Instead of seperately constructing the environment and the agent (containing the sensorimotor and the interest models), one can simply use:"
   ]
  },
  {
   "cell_type": "code",
   "execution_count": 42,
   "metadata": {
    "collapsed": false
   },
   "outputs": [],
   "source": [
    "from explauto.experiment import make_settings\n",
    "\n",
    "random_goal_babbling = make_settings(environment='simple_arm', environment_config = 'mid_dimensional',\n",
    "                                     babbling_mode='goal', \n",
    "                                     interest_model='random',\n",
    "                                     sensorimotor_model='nearest_neighbor')\n",
    "\n",
    "expe = Experiment.from_settings(random_goal_babbling)"
   ]
  },
  {
   "cell_type": "markdown",
   "metadata": {},
   "source": [
    "This is the compact way to construct the environment (here a mid-dimensional 'simple_arm'), the sensorimotor model (here, 'NN') and the interest model (here curiosity-driven goal babbling) and encapsulate them into an experiment."
   ]
  },
  {
   "cell_type": "markdown",
   "metadata": {},
   "source": [
    "An experiment allows to insert an evaluation phase at given time steps:"
   ]
  },
  {
   "cell_type": "code",
   "execution_count": 43,
   "metadata": {
    "collapsed": false
   },
   "outputs": [],
   "source": [
    "expe.evaluate_at([100, 200, 400, 1000], random_goal_babbling.default_testcases)"
   ]
  },
  {
   "cell_type": "markdown",
   "metadata": {},
   "source": [
    "Now let's run the experiment:"
   ]
  },
  {
   "cell_type": "code",
   "execution_count": 44,
   "metadata": {
    "collapsed": false
   },
   "outputs": [
    {
     "name": "stderr",
     "output_type": "stream",
     "text": [
      "WARNING:explauto.agent.agent:Sensorimotor model not bootstrapped yet\n"
     ]
    }
   ],
   "source": [
    "expe.run()"
   ]
  },
  {
   "cell_type": "markdown",
   "metadata": {},
   "source": [
    "This executes the same simulation loop as above, inserting an evaluation phase at each specified time step and logging the flow of interest model choices, sensorimotor model inferences and sensorimotor observations. This allows to, e.g., visualize the chosen goals and reached hand positions during the experiment using the [scatter_plot](http://flowersteam.github.io/explauto/explauto.experiment.html#explauto.experiment.log.ExperimentLog.scatter_plot) method:"
   ]
  },
  {
   "cell_type": "code",
   "execution_count": 45,
   "metadata": {
    "collapsed": false
   },
   "outputs": [
    {
     "name": "stdout",
     "output_type": "stream",
     "text": [
      "Populating the interactive namespace from numpy and matplotlib\n"
     ]
    },
    {
     "data": {
      "text/plain": [
       "<matplotlib.legend.Legend at 0x7fd4115f2750>"
      ]
     },
     "execution_count": 45,
     "metadata": {},
     "output_type": "execute_result"
    },
    {
     "data": {
      "image/png": "[encoded data removed]",
      "text/plain": [
       "<matplotlib.figure.Figure at 0x7fd41266a8d0>"
      ]
     },
     "metadata": {},
     "output_type": "display_data"
    }
   ],
   "source": [
    "%pylab inline\n",
    "ax = axes()\n",
    "title(('Random goal babbling'))\n",
    "\n",
    "expe.log.scatter_plot(ax, (('sensori', [0, 1]),))\n",
    "expe.log.scatter_plot(ax, (('choice', [0, 1]),), marker='.', color='red')\n",
    "#expe.log.scatter_plot(ax, (('testcases', [0, 1]),), marker='o', color='green')\n",
    "\n",
    "legend(['reached hand positions', 'chosen goals'])"
   ]
  },
  {
   "cell_type": "markdown",
   "metadata": {},
   "source": [
    "or to vizualize the learning curve:"
   ]
  },
  {
   "cell_type": "code",
   "execution_count": 46,
   "metadata": {
    "collapsed": false
   },
   "outputs": [
    {
     "data": {
      "image/png": "[encoded data removed]",
      "text/plain": [
       "<matplotlib.figure.Figure at 0x7fd411692510>"
      ]
     },
     "metadata": {},
     "output_type": "display_data"
    }
   ],
   "source": [
    "ax = axes()\n",
    "expe.log.plot_learning_curve(ax)"
   ]
  },
  {
   "cell_type": "markdown",
   "metadata": {},
   "source": [
    "## Parallel comparison of exploration strategies"
   ]
  },
  {
   "cell_type": "markdown",
   "metadata": {},
   "source": [
    "Various exploration strategies can be launched in parallel and compared by using an experiment pool:"
   ]
  },
  {
   "cell_type": "code",
   "execution_count": 49,
   "metadata": {
    "collapsed": false
   },
   "outputs": [],
   "source": [
    "from explauto import ExperimentPool\n",
    "xps = ExperimentPool.from_settings_product(environments=[('simple_arm', 'high_dim_high_s_range')],\n",
    "                                           babblings=['goal'],\n",
    "                                           interest_models=[('random', 'default'), ('discretized_progress', 'default')],\n",
    "                                           sensorimotor_models=[('nearest_neighbor', 'default')],\n",
    "                                           evaluate_at=[200, 500, 900, 1400],\n",
    "                                           same_testcases=True)"
   ]
  },
  {
   "cell_type": "markdown",
   "metadata": {},
   "source": [
    "running it:"
   ]
  },
  {
   "cell_type": "code",
   "execution_count": 50,
   "metadata": {
    "collapsed": false
   },
   "outputs": [
    {
     "name": "stderr",
     "output_type": "stream",
     "text": [
      "WARNING:explauto.agent.agent:Sensorimotor model not bootstrapped yet\n",
      "WARNING:explauto.agent.agent:Sensorimotor model not bootstrapped yet\n"
     ]
    },
    {
     "data": {
      "text/plain": [
       "array([[<explauto.experiment.log.ExperimentLog object at 0x7fd411244550>],\n",
       "       [<explauto.experiment.log.ExperimentLog object at 0x7fd411244450>]], dtype=object)"
      ]
     },
     "execution_count": 50,
     "metadata": {},
     "output_type": "execute_result"
    }
   ],
   "source": [
    "xps.run()"
   ]
  },
  {
   "cell_type": "markdown",
   "metadata": {},
   "source": [
    "comparing learning curves:"
   ]
  },
  {
   "cell_type": "code",
   "execution_count": 51,
   "metadata": {
    "collapsed": false
   },
   "outputs": [
    {
     "data": {
      "text/plain": [
       "<matplotlib.legend.Legend at 0x7fd412591510>"
      ]
     },
     "execution_count": 51,
     "metadata": {},
     "output_type": "execute_result"
    },
    {
     "data": {
      "image/png": "[encoded data removed]",
      "text/plain": [
       "<matplotlib.figure.Figure at 0x7fd411244850>"
      ]
     },
     "metadata": {},
     "output_type": "display_data"
    }
   ],
   "source": [
    "ax = axes()\n",
    "\n",
    "for log in xps.logs:\n",
    "    log.plot_learning_curve(ax)\n",
    "    \n",
    "legend([s.interest_model for s in xps.settings])"
   ]
  },
  {
   "cell_type": "markdown",
   "metadata": {},
   "source": [
    "or vizualize the iterative choice of goals and the reached effects:"
   ]
  },
  {
   "cell_type": "code",
   "execution_count": 52,
   "metadata": {
    "collapsed": false
   },
   "outputs": [
    {
     "name": "stdout",
     "output_type": "stream",
     "text": [
      "Using matplotlib backend: TkAgg\n",
      "Populating the interactive namespace from numpy and matplotlib\n"
     ]
    },
    {
     "name": "stderr",
     "output_type": "stream",
     "text": [
      "WARNING: pylab import has clobbered these variables: ['log']\n",
      "`%matplotlib` prevents importing * from pylab and numpy\n"
     ]
    },
    {
     "data": {
      "image/png": "[encoded data removed]",
      "text/plain": [
       "<matplotlib.figure.Figure at 0x7fd412767450>"
      ]
     },
     "metadata": {},
     "output_type": "display_data"
    }
   ],
   "source": [
    "%pylab\n",
    "clf()\n",
    "last_t = 0\n",
    "for t in linspace(100, xps.logs[0].eval_at[-1], 40):\n",
    "    t = int(t)\n",
    "    for i, (config, log) in enumerate(zip(xps.settings, xps.logs)):\n",
    "        ax = subplot(1, 2, i+1)\n",
    "        log.scatter_plot(ax, (('sensori', [0, 1]),), range(0, t), marker='.', markersize=0.3, color = 'white')\n",
    "        log.density_plot(ax, (('choice', [0, 1]),), range(last_t, t))\n",
    "        title(config.interest_model + ' ' + config.babbling_mode)\n",
    "        draw()\n",
    "    last_t = t"
   ]
  },
  {
   "cell_type": "markdown",
   "metadata": {},
   "source": [
    "## Work in progress"
   ]
  },
  {
   "cell_type": "markdown",
   "metadata": {},
   "source": [
    "* Interest models for social interaction\n",
    "* Motor and sensory primitives, eg Dynamic Movement Primitives\n",
    "    * in open and close loop modes\n",
    "* Module connexion for modularity and graphical programming    "
   ]
  }
 ],
 "metadata": {
  "kernelspec": {
   "display_name": "Python 2",
   "language": "python",
   "name": "python2"
  },
  "language_info": {
   "codemirror_mode": {
    "name": "ipython",
    "version": 2
   },
   "file_extension": ".py",
   "mimetype": "text/x-python",
   "name": "python",
   "nbconvert_exporter": "python",
   "pygments_lexer": "ipython2",
   "version": "2.7.6"
  }
 },
 "nbformat": 4,
 "nbformat_minor": 0
}
