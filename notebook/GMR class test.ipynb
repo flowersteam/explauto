{
 "cells": [
  {
   "cell_type": "code",
   "execution_count": 1,
   "metadata": {
    "collapsed": false
   },
   "outputs": [],
   "source": [
    "import numpy as np\n",
    "import scipy as sp\n",
    "import time\n",
    "import sys\n",
    "sys.path.append('/usr/local/lib/python2.7/dist-packages/gmr-1.1_git-py2.7.egg')\n",
    "import gmr as gaussian_regression"
   ]
  },
  {
   "cell_type": "code",
   "execution_count": 2,
   "metadata": {
    "collapsed": true
   },
   "outputs": [],
   "source": [
    "#Environment definition\n",
    "from scipy import spatial\n",
    "from explauto.utils import rand_bounds\n",
    "from explauto.environment.environment import Environment\n",
    "from explauto import SensorimotorModel\n",
    "from explauto.sensorimotor_model import sensorimotor_models"
   ]
  },
  {
   "cell_type": "code",
   "execution_count": 3,
   "metadata": {
    "collapsed": false
   },
   "outputs": [],
   "source": [
    "from explauto.models.gmrinf import GMR\n",
    "from explauto.sensorimotor_model.ilo_gmr import IloGmr"
   ]
  },
  {
   "cell_type": "code",
   "execution_count": 4,
   "metadata": {
    "collapsed": false
   },
   "outputs": [],
   "source": [
    "environment = Environment.from_configuration('simple_arm', 'mid_dimensional')"
   ]
  },
  {
   "cell_type": "code",
   "execution_count": 5,
   "metadata": {
    "collapsed": true
   },
   "outputs": [],
   "source": [
    "sm_cls, sm_configs = sensorimotor_models['nearest_neighbor']\n",
    "model = sm_cls(environment.conf, **sm_configs['default'])"
   ]
  },
  {
   "cell_type": "code",
   "execution_count": 6,
   "metadata": {
    "collapsed": true
   },
   "outputs": [],
   "source": [
    "#Creation of the total dataset\n",
    "def generateFwdDataset(_environment, _model, _n = 1000):\n",
    "    random_motors = _environment.random_motors(n=_n)\n",
    "   \n",
    "    for m in random_motors:\n",
    "        s = _environment.compute_sensori_effect(m)\n",
    "        _model.update(m, s)\n",
    "generateFwdDataset(environment, model)"
   ]
  },
  {
   "cell_type": "code",
   "execution_count": 7,
   "metadata": {
    "collapsed": false
   },
   "outputs": [],
   "source": [
    "data_list = model.model.imodel.fmodel.dataset.data"
   ]
  },
  {
   "cell_type": "code",
   "execution_count": 8,
   "metadata": {
    "collapsed": false
   },
   "outputs": [],
   "source": [
    "data_np = np.array(data_list).T"
   ]
  },
  {
   "cell_type": "code",
   "execution_count": 9,
   "metadata": {
    "collapsed": false
   },
   "outputs": [],
   "source": [
    "data = []\n",
    "for i in range(len(data_np)):\n",
    "    data.append(np.hstack(data_np[i,:]))"
   ]
  },
  {
   "cell_type": "code",
   "execution_count": 10,
   "metadata": {
    "collapsed": false
   },
   "outputs": [],
   "source": [
    "gmr = GMR(n_components=3)\n",
    "gmr = gmr.from_samples(np.array(data))"
   ]
  },
  {
   "cell_type": "code",
   "execution_count": 11,
   "metadata": {
    "collapsed": true
   },
   "outputs": [],
   "source": [
    "x_wanted_list = [-0.76151596,  0.85728845,  0.0987334 ,  0.46247676, -0.16366163,\n",
    "         0.27212757,  0.08281898]\n",
    "x_wanted_array = np.transpose(np.array([[-0.76151596],  [0.85728845],  [0.0987334],  [0.46247676], [-0.16366163],\n",
    "         [0.27212757],  [0.08281898]]))"
   ]
  },
  {
   "cell_type": "code",
   "execution_count": 12,
   "metadata": {
    "collapsed": false
   },
   "outputs": [],
   "source": [
    "conditional = gmr.condition([0, 1, 2, 3, 4, 5, 6], x_wanted )"
   ]
  },
  {
   "cell_type": "code",
   "execution_count": 13,
   "metadata": {
    "collapsed": false
   },
   "outputs": [
    {
     "name": "stdout",
     "output_type": "stream",
     "text": [
      "[  1.37649826e-04   2.95463259e-02   9.70316024e-01]\n"
     ]
    }
   ],
   "source": [
    "print conditional.priors"
   ]
  },
  {
   "cell_type": "code",
   "execution_count": 15,
   "metadata": {
    "collapsed": false
   },
   "outputs": [],
   "source": [
    "prediction = gmr.predict(np.array([0, 1, 2, 3, 4, 5, 6]), x_wanted_array)\n"
   ]
  },
  {
   "cell_type": "code",
   "execution_count": 16,
   "metadata": {
    "collapsed": false
   },
   "outputs": [
    {
     "name": "stdout",
     "output_type": "stream",
     "text": [
      "[ 0.83352573 -0.06368539]\n"
     ]
    }
   ],
   "source": [
    "print prediction[0]"
   ]
  },
  {
   "cell_type": "code",
   "execution_count": 18,
   "metadata": {
    "collapsed": false
   },
   "outputs": [],
   "source": [
    "reg = gmr.regression(np.array([0, 1, 2, 3, 4, 5, 6]), np.array([7,8]), x_wanted_array, \"lse\")"
   ]
  },
  {
   "cell_type": "code",
   "execution_count": 19,
   "metadata": {
    "collapsed": false
   },
   "outputs": [
    {
     "name": "stdout",
     "output_type": "stream",
     "text": [
      "[ 0.83352573 -0.06368539]\n"
     ]
    }
   ],
   "source": [
    "print reg"
   ]
  },
  {
   "cell_type": "code",
   "execution_count": 23,
   "metadata": {
    "collapsed": false
   },
   "outputs": [],
   "source": [
    "slse = gmr.regression(np.array([0, 1, 2, 3, 4, 5, 6]), np.array([7,8]),  x_wanted_array, \"slse\")"
   ]
  },
  {
   "cell_type": "code",
   "execution_count": 21,
   "metadata": {
    "collapsed": false
   },
   "outputs": [
    {
     "name": "stdout",
     "output_type": "stream",
     "text": [
      "[ 0.82906377 -0.07093158]\n"
     ]
    }
   ],
   "source": [
    "print slse"
   ]
  },
  {
   "cell_type": "code",
   "execution_count": 22,
   "metadata": {
    "collapsed": false
   },
   "outputs": [],
   "source": [
    "stoc_samp = gmr.regression(np.array([0, 1, 2, 3, 4, 5, 6]), np.array([7,8]),  x_wanted_array, \"stochastic_sampling\")"
   ]
  },
  {
   "cell_type": "code",
   "execution_count": 24,
   "metadata": {
    "collapsed": false
   },
   "outputs": [
    {
     "name": "stdout",
     "output_type": "stream",
     "text": [
      "[ 0.79811269 -0.01681426]\n",
      "[ 0.80222399 -0.03754475]\n"
     ]
    }
   ],
   "source": [
    "print stoc_samp\n",
    "print conditional.sample(n_samples=1)[0]"
   ]
  },
  {
   "cell_type": "code",
   "execution_count": 22,
   "metadata": {
    "collapsed": false
   },
   "outputs": [
    {
     "ename": "TypeError",
     "evalue": "regression_optimization() takes at least 5 arguments (4 given)",
     "output_type": "error",
     "traceback": [
      "\u001b[1;31m---------------------------------------------------------------------------\u001b[0m",
      "\u001b[1;31mTypeError\u001b[0m                                 Traceback (most recent call last)",
      "\u001b[1;32m<ipython-input-22-e2b096f8399d>\u001b[0m in \u001b[0;36m<module>\u001b[1;34m()\u001b[0m\n\u001b[0;32m      1\u001b[0m optim = gmr.regression(np.array([0, 1, 2, 3, 4, 5, 6]), np.array([7,8]), np.transpose(np.array([[-0.76151596],  [0.85728845],  [0.0987334],  [0.46247676], [-0.16366163],\n\u001b[1;32m----> 2\u001b[1;33m          [0.27212757],  [0.08281898]])), \"optimization\")\n\u001b[0m",
      "\u001b[1;32m/home/roxane/Logiciels/anaconda/lib/python2.7/site-packages/explauto-1.2.0-py2.7.egg/explauto/models/gmrinf.pyc\u001b[0m in \u001b[0;36mregression\u001b[1;34m(self, in_dims, out_dims, value, regression_method, **kwargs)\u001b[0m\n\u001b[0;32m     61\u001b[0m             \u001b[1;32mreturn\u001b[0m \u001b[0mself\u001b[0m\u001b[1;33m.\u001b[0m\u001b[0mregression_slse\u001b[0m\u001b[1;33m(\u001b[0m\u001b[0min_dims\u001b[0m\u001b[1;33m,\u001b[0m \u001b[0mout_dims\u001b[0m\u001b[1;33m,\u001b[0m \u001b[0mvalue\u001b[0m\u001b[1;33m)\u001b[0m\u001b[1;33m\u001b[0m\u001b[0m\n\u001b[0;32m     62\u001b[0m         \u001b[1;32melif\u001b[0m \u001b[0mregression_method\u001b[0m \u001b[1;33m==\u001b[0m \u001b[1;34m\"optimization\"\u001b[0m\u001b[1;33m:\u001b[0m\u001b[1;33m\u001b[0m\u001b[0m\n\u001b[1;32m---> 63\u001b[1;33m             \u001b[1;32mreturn\u001b[0m \u001b[0mself\u001b[0m\u001b[1;33m.\u001b[0m\u001b[0mregression_optimization\u001b[0m\u001b[1;33m(\u001b[0m\u001b[0min_dims\u001b[0m\u001b[1;33m,\u001b[0m \u001b[0mout_dims\u001b[0m\u001b[1;33m,\u001b[0m \u001b[0mvalue\u001b[0m\u001b[1;33m,\u001b[0m \u001b[1;33m**\u001b[0m\u001b[0mkwargs\u001b[0m\u001b[1;33m)\u001b[0m\u001b[1;33m\u001b[0m\u001b[0m\n\u001b[0m\u001b[0;32m     64\u001b[0m         \u001b[1;32melif\u001b[0m \u001b[0mregression_method\u001b[0m \u001b[1;33m==\u001b[0m \u001b[1;34m\"stochastic_sampling\"\u001b[0m\u001b[1;33m:\u001b[0m\u001b[1;33m\u001b[0m\u001b[0m\n\u001b[0;32m     65\u001b[0m             \u001b[1;32mreturn\u001b[0m \u001b[0mself\u001b[0m\u001b[1;33m.\u001b[0m\u001b[0mregression_stochastic_sampling\u001b[0m\u001b[1;33m(\u001b[0m\u001b[0min_dims\u001b[0m\u001b[1;33m,\u001b[0m \u001b[0mout_dims\u001b[0m\u001b[1;33m,\u001b[0m \u001b[0mvalue\u001b[0m\u001b[1;33m)\u001b[0m\u001b[1;33m\u001b[0m\u001b[0m\n",
      "\u001b[1;31mTypeError\u001b[0m: regression_optimization() takes at least 5 arguments (4 given)"
     ]
    }
   ],
   "source": [
    "optim = gmr.regression(np.array([0, 1, 2, 3, 4, 5, 6]), np.array([7,8]),  x_wanted_array, \"optimization\")"
   ]
  },
  {
   "cell_type": "code",
   "execution_count": 12,
   "metadata": {
    "collapsed": false
   },
   "outputs": [
    {
     "name": "stdout",
     "output_type": "stream",
     "text": [
      "[-0.76151596, 0.85728845, 0.0987334, 0.46247676, -0.16366163, 0.27212757, 0.08281898]\n",
      "[-0.46137381  0.43977351  0.18866761  0.39337473  0.04888891  0.60912177\n",
      "  0.15361874]\n"
     ]
    }
   ],
   "source": [
    "#1) get x the nearest neighbor of xq in the dataset\n",
    "dist, indexes = model.model.imodel.fmodel.dataset.nn_x( x_wanted_list, k = 1)\n",
    "x = model.model.imodel.fmodel.dataset.get_x(indexes[0])\n",
    "print x_wanted_list\n",
    "print x"
   ]
  },
  {
   "cell_type": "code",
   "execution_count": 13,
   "metadata": {
    "collapsed": false
   },
   "outputs": [
    {
     "name": "stdout",
     "output_type": "stream",
     "text": [
      "[ 0.87630398  0.01291787]\n"
     ]
    }
   ],
   "source": [
    "#2) get the y associated to x\n",
    "y = model.model.imodel.fmodel.dataset.get_y(indexes[0])\n",
    "print y"
   ]
  },
  {
   "cell_type": "code",
   "execution_count": 14,
   "metadata": {
    "collapsed": false
   },
   "outputs": [],
   "source": [
    "#3) Creation fof a local dataset depending on x_g\n",
    "_, l_index = model.model.imodel.fmodel.dataset.nn_x(x, 100)\n",
    "l_nn = []\n",
    "col1 = []\n",
    "col2 = []\n",
    "for index in l_index:\n",
    "    l_nn.append(np.hstack(model.model.imodel.fmodel.dataset.get_xy(index)))\n",
    "lnn_nparray = np.array(l_nn)"
   ]
  },
  {
   "cell_type": "code",
   "execution_count": 40,
   "metadata": {
    "collapsed": false
   },
   "outputs": [
    {
     "name": "stdout",
     "output_type": "stream",
     "text": [
      "3\n"
     ]
    }
   ],
   "source": [
    "#4) find the number of gaussians\n",
    "from sklearn.cluster import AffinityPropagation\n",
    "af = AffinityPropagation(damping=0.988)\n",
    "af.fit(l_nn)\n",
    "n_clusters = len(af.cluster_centers_)\n",
    "print n_clusters"
   ]
  },
  {
   "cell_type": "code",
   "execution_count": 41,
   "metadata": {
    "collapsed": false
   },
   "outputs": [],
   "source": [
    "#5 ) create ilogmr\n",
    "local_gmr = IloGmr(environment.conf, n_clusters)\n",
    "local_gmr = local_gmr.from_samples(lnn_nparray)"
   ]
  },
  {
   "cell_type": "code",
   "execution_count": 42,
   "metadata": {
    "collapsed": false
   },
   "outputs": [
    {
     "name": "stdout",
     "output_type": "stream",
     "text": [
      "[ 0.26908044  0.46998805  0.26093151]\n"
     ]
    }
   ],
   "source": [
    "print local_gmr.priors"
   ]
  }
 ],
 "metadata": {
  "kernelspec": {
   "display_name": "Python 2",
   "language": "python",
   "name": "python2"
  },
  "language_info": {
   "codemirror_mode": {
    "name": "ipython",
    "version": 2
   },
   "file_extension": ".py",
   "mimetype": "text/x-python",
   "name": "python",
   "nbconvert_exporter": "python",
   "pygments_lexer": "ipython2",
   "version": "2.7.11"
  }
 },
 "nbformat": 4,
 "nbformat_minor": 0
}
